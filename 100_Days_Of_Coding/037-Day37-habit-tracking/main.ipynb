{
 "cells": [
  {
   "cell_type": "code",
   "execution_count": 1,
   "metadata": {},
   "outputs": [],
   "source": [
    "import requests\n",
    "import datetime as dt"
   ]
  },
  {
   "cell_type": "code",
   "execution_count": 2,
   "metadata": {},
   "outputs": [],
   "source": [
    "USERNAME = \"whsaik\"\n",
    "TOKEN = \"your_own_token\"\n",
    "GRAPH_ID = \"graph1\""
   ]
  },
  {
   "cell_type": "code",
   "execution_count": 3,
   "metadata": {},
   "outputs": [],
   "source": [
    "# create user account\n",
    "pixela_endpoint = 'https://pixe.la/v1/users'\n",
    "\n",
    "pixela_params = {\n",
    "    \"token\": TOKEN,\n",
    "    \"username\": USERNAME,\n",
    "    \"agreeTermsOfService\": \"yes\",\n",
    "    \"notMinor\": \"yes\",\n",
    "}"
   ]
  },
  {
   "cell_type": "code",
   "execution_count": null,
   "metadata": {},
   "outputs": [],
   "source": [
    "response = requests.post(url= pixela_endpoint, json=pixela_params)\n",
    "print(response.text)"
   ]
  },
  {
   "cell_type": "code",
   "execution_count": 4,
   "metadata": {},
   "outputs": [],
   "source": [
    "# create graph\n",
    "graph_endpoint = f'{pixela_endpoint}/{USERNAME}/graphs'\n",
    "\n",
    "header ={\n",
    "    'X-USER-TOKEN': TOKEN,\n",
    "}\n",
    "\n",
    "graph_params = {\n",
    "    \"id\":GRAPH_ID,\n",
    "    \"name\":\"Learing Graph\",\n",
    "    \"unit\":\"hours\",\n",
    "    \"type\":\"float\",\n",
    "    \"color\":\"ajisai\",\n",
    "}"
   ]
  },
  {
   "cell_type": "code",
   "execution_count": null,
   "metadata": {},
   "outputs": [],
   "source": [
    "response = requests.post(url=graph_endpoint, json=graph_params, headers=header)\n",
    "print(response.text)"
   ]
  },
  {
   "cell_type": "code",
   "execution_count": 21,
   "metadata": {},
   "outputs": [],
   "source": [
    "# create pixel for today\n",
    "today = dt.datetime.now()"
   ]
  },
  {
   "cell_type": "code",
   "execution_count": 18,
   "metadata": {},
   "outputs": [],
   "source": [
    "pixel_endpoint = f'{graph_endpoint}/{GRAPH_ID}'\n",
    "\n",
    "header ={\n",
    "    'X-USER-TOKEN': TOKEN,\n",
    "}\n",
    "\n",
    "pixel_params = {\n",
    "    \"date\":today.strftime(\"%Y%m%d\"),\n",
    "    \"quantity\": input(\"How many hours have you spent on learning? \"),\n",
    "}"
   ]
  },
  {
   "cell_type": "code",
   "execution_count": 19,
   "metadata": {},
   "outputs": [
    {
     "name": "stdout",
     "output_type": "stream",
     "text": [
      "{\"message\":\"Success.\",\"isSuccess\":true}\n"
     ]
    }
   ],
   "source": [
    "response = requests.post(url=pixel_endpoint, json=pixel_params, headers=header)\n",
    "print(response.text)"
   ]
  },
  {
   "cell_type": "code",
   "execution_count": 23,
   "metadata": {},
   "outputs": [
    {
     "name": "stdout",
     "output_type": "stream",
     "text": [
      "{\"message\":\"Success.\",\"isSuccess\":true}\n"
     ]
    }
   ],
   "source": [
    "# Edit the pixel\n",
    "today_f = today.strftime(\"%Y%m%d\")\n",
    "pixel_params = {\n",
    "    \"quantity\": input(\"How many hours have you spent on learning? \"),\n",
    "}\n",
    "\n",
    "response = requests.put(url=f\"{pixel_endpoint}/{today_f}\", json=pixel_params, headers=header)\n",
    "print(response.text)"
   ]
  },
  {
   "cell_type": "code",
   "execution_count": 24,
   "metadata": {},
   "outputs": [
    {
     "name": "stdout",
     "output_type": "stream",
     "text": [
      "{\"message\":\"Success.\",\"isSuccess\":true}\n"
     ]
    }
   ],
   "source": [
    "# delete pixel\n",
    "response = requests.delete(url=f\"{pixel_endpoint}/{today_f}\", headers=header)\n",
    "print(response.text)"
   ]
  }
 ],
 "metadata": {
  "kernelspec": {
   "display_name": "base",
   "language": "python",
   "name": "python3"
  },
  "language_info": {
   "codemirror_mode": {
    "name": "ipython",
    "version": 3
   },
   "file_extension": ".py",
   "mimetype": "text/x-python",
   "name": "python",
   "nbconvert_exporter": "python",
   "pygments_lexer": "ipython3",
   "version": "3.9.13"
  },
  "orig_nbformat": 4
 },
 "nbformat": 4,
 "nbformat_minor": 2
}
