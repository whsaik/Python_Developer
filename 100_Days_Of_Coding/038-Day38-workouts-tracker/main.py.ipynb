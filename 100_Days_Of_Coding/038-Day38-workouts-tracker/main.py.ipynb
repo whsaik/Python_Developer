{
  "cells": [
    {
      "cell_type": "code",
      "execution_count": 2,
      "metadata": {
        "id": "ELhPzIlft5PS"
      },
      "outputs": [],
      "source": [
        "import requests"
      ]
    },
    {
      "cell_type": "code",
      "execution_count": 27,
      "metadata": {
        "colab": {
          "base_uri": "https://localhost:8080/"
        },
        "id": "WxucBFAouDP6",
        "outputId": "f992b109-82f9-4f9b-e721-ddd5402a30c6"
      },
      "outputs": [
        {
          "name": "stdout",
          "output_type": "stream",
          "text": [
            "Tell me which exercises you did: I ran for 3km for 30mins\n"
          ]
        }
      ],
      "source": [
        "# using nutritionix-api parse the text and get the records for the exercises done\n",
        "GENDER = 'male'\n",
        "WEIGHT = 69.5\n",
        "HEIGHT = 162.2\n",
        "AGE = 28\n",
        "\n",
        "exercise_endpoint = 'https://trackapi.nutritionix.com/v2/natural/exercise'\n",
        "\n",
        "NUTRI_API_KEY = '---'\n",
        "NUTRI_ID = '---'\n",
        "\n",
        "exercise_text = input(\"Tell me which exercises you did: \")\n",
        "\n",
        "headers = {\n",
        "    'x-app-id': NUTRI_ID,\n",
        "    'x-app-key': NUTRI_API_KEY,\n",
        "}\n",
        "\n",
        "exercise_params = {\n",
        " \"query\": exercise_text,\n",
        " \"gender\": GENDER,\n",
        " \"weight_kg\": WEIGHT,\n",
        " \"height_cm\": HEIGHT,\n",
        " \"age\": AGE\n",
        "}"
      ]
    },
    {
      "cell_type": "code",
      "execution_count": 28,
      "metadata": {
        "colab": {
          "base_uri": "https://localhost:8080/"
        },
        "id": "2SCbszCxNRqK",
        "outputId": "3c31d6d1-7570-4df1-dd6d-b9e460e9890a"
      },
      "outputs": [
        {
          "data": {
            "text/plain": [
              "[{'tag_id': 317,\n",
              "  'user_input': 'ran',\n",
              "  'duration_min': 30,\n",
              "  'met': 9.8,\n",
              "  'nf_calories': 340.55,\n",
              "  'photo': {'highres': 'https://d2xdmhkmkbyw75.cloudfront.net/exercise/317_highres.jpg',\n",
              "   'thumb': 'https://d2xdmhkmkbyw75.cloudfront.net/exercise/317_thumb.jpg',\n",
              "   'is_user_uploaded': False},\n",
              "  'compendium_code': 12050,\n",
              "  'name': 'running',\n",
              "  'description': None,\n",
              "  'benefits': None}]"
            ]
          },
          "execution_count": 28,
          "metadata": {},
          "output_type": "execute_result"
        }
      ],
      "source": [
        "response = requests.post(url=exercise_endpoint, json=exercise_params, headers=headers)\n",
        "response.raise_for_status()\n",
        "data = response.json()['exercises']\n",
        "data"
      ]
    },
    {
      "cell_type": "code",
      "execution_count": 29,
      "metadata": {
        "colab": {
          "base_uri": "https://localhost:8080/"
        },
        "id": "83VCKtjpPghj",
        "outputId": "b2ac55c4-53df-4ef7-c4cf-8ae5ca60212c"
      },
      "outputs": [
        {
          "data": {
            "text/plain": [
              "[('ran', 30, 340.55)]"
            ]
          },
          "execution_count": 29,
          "metadata": {},
          "output_type": "execute_result"
        }
      ],
      "source": [
        "# extract the exercises from the data\n",
        "exercises_list = [(x['user_input'], x['duration_min'], x['nf_calories']) for x in data]\n",
        "exercises_list"
      ]
    },
    {
      "cell_type": "code",
      "execution_count": 30,
      "metadata": {
        "id": "w1ssQntJTyfv"
      },
      "outputs": [],
      "source": [
        "# get current date and time\n",
        "import datetime as dt\n",
        "\n",
        "def get_time():\n",
        "  time_now = dt.datetime.now()\n",
        "  date = time_now.strftime(f\"%d/%m/%Y\")\n",
        "  time = time_now.strftime(f\"%X\")\n",
        "  return date, time\n"
      ]
    },
    {
      "cell_type": "code",
      "execution_count": 32,
      "metadata": {
        "colab": {
          "base_uri": "https://localhost:8080/"
        },
        "id": "LIsvSzvyV7aB",
        "outputId": "011faaf1-55e9-4a72-e3be-e78ddd650bf6"
      },
      "outputs": [
        {
          "name": "stdout",
          "output_type": "stream",
          "text": [
            "response.status_code = 200\n",
            "response.text = {\n",
            "  \"workout\": {\n",
            "    \"date\": \"24/03/2023\",\n",
            "    \"time\": \"17:01:54\",\n",
            "    \"exercise\": \"Ran\",\n",
            "    \"duration\": 30,\n",
            "    \"calories\": 340.55,\n",
            "    \"id\": 3\n",
            "  }\n",
            "}\n"
          ]
        }
      ],
      "source": [
        "# POST request to insert exercise records\n",
        "sheety_endpoint = 'https://api.sheety.co/494573985e3285c8f0e2f8687d289bb0/workoutsTracking/workouts'\n",
        "\n",
        "TOKEN = '---'\n",
        "\n",
        "bearer_headers = {\n",
        "    'Authorization': f'Bearer {TOKEN}',\n",
        "}\n",
        "\n",
        "for exercise in exercises_list:\n",
        "  date, time = get_time()\n",
        "  sheety_data = {\n",
        "      'workout': {\n",
        "          'date': date,\n",
        "          'time': time,\n",
        "          'exercise': exercise[0].title(),\n",
        "          'duration': exercise[1],\n",
        "          'calories': exercise[2],\n",
        "      }\n",
        "  }\n",
        "\n",
        "  response = requests.post(url=sheety_endpoint, json=sheety_data, headers=bearer_headers)\n",
        "  print(\"response.status_code =\", response.status_code)\n",
        "  print(\"response.text =\", response.text)"
      ]
    },
    {
      "cell_type": "code",
      "execution_count": null,
      "metadata": {
        "id": "2bHm80rWh6IU"
      },
      "outputs": [],
      "source": [
        "# Basic Authentications\n",
        "# username = \"whsaik\"\n",
        "\n",
        "# sheet_response = requests.post(\n",
        "#   sheet_endpoint, \n",
        "#   json=sheet_inputs, \n",
        "#   auth=(\n",
        "#       username, \n",
        "#       TOKEN,\n",
        "#   )\n",
        "# )"
      ]
    }
  ],
  "metadata": {
    "colab": {
      "provenance": []
    },
    "kernelspec": {
      "display_name": "Python 3",
      "name": "python3"
    },
    "language_info": {
      "name": "python"
    }
  },
  "nbformat": 4,
  "nbformat_minor": 0
}
