{
 "cells": [
  {
   "cell_type": "markdown",
   "id": "673ce65b",
   "metadata": {},
   "source": [
    "## Question 1\n",
    "Given an integer n and an array a of length n, your task is to apply the following mutation to a:\n",
    "\n",
    "Array a mutates into a new array b of length n.\n",
    "\n",
    "For each i from 0 to n - 1, b[i] = a[i - 1] + a[i] + a[i + 1].\n",
    "\n",
    "If some element in the sum a[i - 1] + a[i] + a[i + 1] does not exist, it should be set to 0. For example, b[0] should be equal to 0 + a[0] + a[1].\n",
    "\n",
    "### Example\n",
    "\n",
    "For n = 5 and a = [4, 0, 1, -2, 3], the output should be solution(n, a) = [4, 5, -1, 2, 1].\n",
    "\n",
    "* b[0] = 0 + a[0] + a[1] = 0 + 4 + 0 = 4\n",
    "* b[1] = a[0] + a[1] + a[2] = 4 + 0 + 1 = 5\n",
    "* b[2] = a[1] + a[2] + a[3] = 0 + 1 + (-2) = -1\n",
    "* b[3] = a[2] + a[3] + a[4] = 1 + (-2) + 3 = 2\n",
    "* b[4] = a[3] + a[4] + 0 = (-2) + 3 + 0 = 1\n",
    "\n",
    "So, the resulting array after the mutation will be [4, 5, -1, 2, 1]."
   ]
  },
  {
   "cell_type": "code",
   "execution_count": 6,
   "id": "07c51f9b",
   "metadata": {},
   "outputs": [],
   "source": [
    "n = 5 \n",
    "a = [4, 0, 1, -2, 3]\n",
    "\n",
    "def solution(n,a):\n",
    "    b = []\n",
    "    for i in range(n):\n",
    "        if n == 0:\n",
    "            return b\n",
    "        elif n == 1:\n",
    "            b = a\n",
    "            return b\n",
    "        else:\n",
    "            if (i-1) < 0:\n",
    "                k = 0 + a[i] + a[i + 1]\n",
    "                b.append(k)\n",
    "            elif (i + 1) >= n:\n",
    "                k = a[i - 1] + a[i] + 0\n",
    "                b.append(k)\n",
    "            else:\n",
    "                k = a[i - 1] + a[i] + a[i + 1]\n",
    "                b.append(k)\n",
    "        \n",
    "    return b\n"
   ]
  },
  {
   "cell_type": "code",
   "execution_count": 7,
   "id": "b1376680",
   "metadata": {},
   "outputs": [
    {
     "data": {
      "text/plain": [
       "[4, 5, -1, 2, 1]"
      ]
     },
     "execution_count": 7,
     "metadata": {},
     "output_type": "execute_result"
    }
   ],
   "source": [
    "solution(n,a)"
   ]
  },
  {
   "cell_type": "markdown",
   "id": "b49036b1",
   "metadata": {},
   "source": [
    "## Question 2\n",
    "You are given a string s. Your task is to count the number of ways of splitting s into three non-empty parts a, b and c (s = a + b + c) in such a way that a + b, b + c and c + a are all different strings.\n",
    "\n",
    "NOTE: + refers to string concatenation.\n",
    "\n",
    "### Example\n",
    "\n",
    "For s = \"xzxzx\", the output should be solution(s) = 5.\n",
    "\n",
    "Consider all the ways to split s into three non-empty parts:\n",
    "\n",
    "* If a = \"x\", b = \"z\" and c = \"xzx\", then all a + b = \"xz\", b + c = \"zxzx\" and c + a = xzxx are different.\n",
    "* If a = \"x\", b = \"zx\" and c = \"zx\", then all a + b = \"xzx\", b + c = \"zxzx\" and c + a = zxx are different.\n",
    "* If a = \"x\", b = \"zxz\" and c = \"x\", then all a + b = \"xzxz\", b + c = \"zxzx\" and c + a = xx are different.\n",
    "* If a = \"xz\", b = \"x\" and c = \"zx\", then a + b = b + c = \"xzx\". Hence, this split is not counted.\n",
    "* If a = \"xz\", b = \"xz\" and c = \"x\", then all a + b = \"xzxz\", b + c = \"xzx\" and c + a = xxz are different.\n",
    "* If a = \"xzx\", b = \"z\" and c = \"x\", then all a + b = \"xzxz\", b + c = \"zx\" and c + a = xxzx are different.\n",
    "\n",
    "Since there are five valid ways to split s, the answer is 5."
   ]
  },
  {
   "cell_type": "code",
   "execution_count": 65,
   "id": "99666b5c",
   "metadata": {},
   "outputs": [],
   "source": [
    "def solution(s):\n",
    "    n = len(s)\n",
    "    count = 0\n",
    "    \n",
    "    for i in range(n):\n",
    "        for j in range(n):\n",
    "            results = []\n",
    "            checker1, list_check = [], []\n",
    "            if i >= n-2:\n",
    "                break\n",
    "            else:    \n",
    "                a = s[0:i+1]\n",
    "                b = s[i+1:i+2+j]\n",
    "                c = s[i+2+j:]\n",
    "                \n",
    "                if a==\"\" or b==\"\" or c==\"\":\n",
    "                    break\n",
    "                \n",
    "                list_check = [a+b,b+c,c+a]\n",
    "                for ch in list_check:\n",
    "                    if ch in checker1:\n",
    "                        break\n",
    "                    elif ch not in checker1:\n",
    "                        checker1.append(ch)\n",
    "                        if len(checker1) == 3:\n",
    "                            count += 1                      \n",
    "    return count\n",
    "                "
   ]
  },
  {
   "cell_type": "markdown",
   "id": "bfc7e6c5",
   "metadata": {},
   "source": [
    "## Question 3\n",
    "You are implementing your own programming language and you've decided to add support for merging strings. \n",
    "\n",
    "A typical merge function would take two strings s1 and s2, and return the lexicographically smallest result that can be obtained by placing the symbols of s2 between the symbols of s1 in such a way that maintains the relative order of the characters in each string.\n",
    "\n",
    "For example, if s1 = \"super\" and s2 = \"tower\", the result should be merge(s1, s2) = \"stouperwer\".\n",
    "\n",
    "You'd like to make your language more unique, so for your merge function, instead of comparing the characters in the usual lexicographical order, you'll compare them based on how many times they occur in their respective initial strings (fewer occurrences means the character is considered smaller). If the number of occurrences are equal, then the characters should be compared in the usual lexicographical way. If both number of occurences and characters are equal, you should take the characters from the first string to the result. Note that occurrences in the initial strings are compared - they do not change over the merge process.\n",
    "\n",
    "Given two strings s1 and s2, return the result of the special merge function you are implementing.\n",
    "\n",
    "# Example\n",
    "\n",
    "For s1 = \"dce\" and s2 = \"cccbd\", the output should be\n",
    "solution(s1, s2) = \"dcecccbd\".\n",
    "All symbols from s1 goes first, because all of them have only 1 occurrence in s1 and c has 3 occurrences in s2."
   ]
  },
  {
   "cell_type": "code",
   "execution_count": 192,
   "id": "7dad73f3",
   "metadata": {},
   "outputs": [],
   "source": [
    "def solution(s1,s2):\n",
    "    list1 = list(s1)\n",
    "    list2 = list(s2)\n",
    "    results_list = []\n",
    "    d1,d2 = {},{}\n",
    "    \n",
    "    for i in set(s1):\n",
    "        d1[i] = s1.count(i)\n",
    "        \n",
    "    for k in set(s2):\n",
    "        d2[k] = s2.count(k)\n",
    "    \n",
    "    for m in range(len(s1)+len(s2)):\n",
    "        if list1 == [] or list2 == []:\n",
    "            results_list = results_list + list1 + list2\n",
    "            break\n",
    "        \n",
    "        a = list1[0]\n",
    "        b = list2[0]\n",
    "        \n",
    "        if d1[a] > d2[b]:\n",
    "            results_list.append(list2[0])\n",
    "            list2.pop(0)\n",
    "            \n",
    "        elif d1[a] < d2[b]:\n",
    "            results_list.append(list1[0])\n",
    "            list1.pop(0)\n",
    "            \n",
    "        elif d1[a] == d2[b]:\n",
    "            if list1[0] <= list2[0]:\n",
    "                results_list.append(list1[0])\n",
    "                list1.pop(0)\n",
    "                \n",
    "            else:\n",
    "                results_list.append(list2[0])\n",
    "                list2.pop(0)\n",
    "              \n",
    "    results = ''.join(results_list)\n",
    "    return results"
   ]
  },
  {
   "cell_type": "code",
   "execution_count": 193,
   "id": "8475b7d8",
   "metadata": {},
   "outputs": [
    {
     "data": {
      "text/plain": [
       "True"
      ]
     },
     "execution_count": 193,
     "metadata": {},
     "output_type": "execute_result"
    }
   ],
   "source": [
    "s1= \"ougtaleegvrabhugzyx\"\n",
    "s2= \"wvieaqgaegbxg\"\n",
    "aaa = \"owvieaqugtaleegvrabhugzyxgaegbxg\"\n",
    "\n",
    "solution(s1,s2) == aaa"
   ]
  },
  {
   "cell_type": "markdown",
   "id": "f21fb4a5",
   "metadata": {},
   "source": [
    "## Question 4\n",
    "Given an array of positive integers a, your task is to calculate the sum of every possible a[i] ∘ a[j], where a[i] ∘ a[j] is the concatenation of the string representations of a[i] and a[j] respectively.\n",
    "\n",
    "### Example\n",
    "\n",
    "For a = [10, 2], the output should be solution(a) = 1344.\n",
    "\n",
    "* a[0] ∘ a[0] = 10 ∘ 10 = 1010,\n",
    "* a[0] ∘ a[1] = 10 ∘ 2 = 102,\n",
    "* a[1] ∘ a[0] = 2 ∘ 10 = 210,\n",
    "* a[1] ∘ a[1] = 2 ∘ 2 = 22.\n",
    "So the sum is equal to 1010 + 102 + 210 + 22 = 1344.\n",
    "\n",
    "For a = [8], the output should be solution(a) = 88.\n",
    "\n",
    "There is only one number in a, and a[0] ∘ a[0] = 8 ∘ 8 = 88, so the answer is 88.\n",
    "\n",
    "For a = [1, 2, 3], the output should be solution(a) = 198.\n",
    "\n",
    "* a[0] ∘ a[0] = 1 ∘ 1 = 11,\n",
    "* a[0] ∘ a[1] = 1 ∘ 2 = 12,\n",
    "* a[0] ∘ a[2] = 1 ∘ 3 = 13,\n",
    "* a[1] ∘ a[0] = 2 ∘ 1 = 21,\n",
    "* a[1] ∘ a[1] = 2 ∘ 2 = 22,\n",
    "* a[1] ∘ a[2] = 2 ∘ 3 = 23,\n",
    "* a[2] ∘ a[0] = 3 ∘ 1 = 31,\n",
    "* a[2] ∘ a[1] = 3 ∘ 2 = 32,\n",
    "* a[2] ∘ a[2] = 3 ∘ 3 = 33.\n",
    "The total result is 11 + 12 + 13 + 21 + 22 + 23 + 31 + 32 + 33 = 198."
   ]
  },
  {
   "cell_type": "code",
   "execution_count": 177,
   "id": "e0055e67",
   "metadata": {},
   "outputs": [],
   "source": [
    "def solution(a):\n",
    "    n = len(a)\n",
    "    num = 0\n",
    "    \n",
    "    for i in range(n):\n",
    "        for j in range(n):\n",
    "            num += int(str(a[i]) + str(a[j]))\n",
    "            \n",
    "    return num"
   ]
  },
  {
   "cell_type": "code",
   "execution_count": 187,
   "id": "c213dbb4",
   "metadata": {},
   "outputs": [
    {
     "data": {
      "text/plain": [
       "True"
      ]
     },
     "execution_count": 187,
     "metadata": {},
     "output_type": "execute_result"
    }
   ],
   "source": [
    "a= [9, 8, 7, 6, 5, 4, 3, 2, 1]\n",
    "ans=4455\n",
    "\n",
    "solution(a) == ans"
   ]
  },
  {
   "cell_type": "markdown",
   "id": "6dd06762",
   "metadata": {},
   "source": [
    "## Question 5\n",
    "You are given an array of integers numbers and two integers left and right. \n",
    "\n",
    "You task is to calculate a boolean array result, where result[i] = true if there exists an integer x, such that numbers[i] = (i + 1) * x and left ≤ x ≤ right. \n",
    "\n",
    "Otherwise, result[i] should be set to false.\n",
    "\n",
    "### Example\n",
    "\n",
    "For numbers = [8, 5, 6, 16, 5], left = 1, and right = 3, the output should be solution(numbers, left, right) = [false, false, true, false, true].\n",
    "\n",
    "* For numbers[0] = 8, we need to find a value of x such that 1 * x = 8, but the only value that would work is x = 8 which doesn't satisfy the boundaries 1 ≤ x ≤ 3, so result[0] = false.\n",
    "* For numbers[1] = 5, we need to find a value of x such that 2 * x = 5, but there is no integer value that would satisfy this equation, so result[1] = false.\n",
    "* For numbers[2] = 6, we can choose x = 2 because 3 * 2 = 6 and 1 ≤ 2 ≤ 3, so result[2] = true.\n",
    "* For numbers[3] = 16, there is no an integer 1 ≤ x ≤ 3, such that 4 * x = 16, so result[3] = false.\n",
    "* For numbers[4] = 5, we can choose x = 1 because 5 * 1 = 5 and 1 ≤ 1 ≤ 3, so result[4] = true.\n"
   ]
  },
  {
   "cell_type": "code",
   "execution_count": 18,
   "id": "fa433f66",
   "metadata": {},
   "outputs": [],
   "source": [
    "def solution(numbers, left, right):\n",
    "    results = []\n",
    "    \n",
    "    for i in range(len(numbers)):\n",
    "        a = numbers[i] % (i+1)\n",
    "        if a == 0:\n",
    "            if (numbers[i]/(i+1) < left) or (numbers[i]/(i+1) > right):\n",
    "                results.append(False)\n",
    "            else:\n",
    "                results.append(True)\n",
    "        else:\n",
    "            results.append(False)\n",
    "            \n",
    "    return results"
   ]
  },
  {
   "cell_type": "code",
   "execution_count": 19,
   "id": "b4983514",
   "metadata": {},
   "outputs": [
    {
     "name": "stdout",
     "output_type": "stream",
     "text": [
      "i = 0, a = 0, numbers = 8\n",
      "1\n",
      "i = 1, a = 1, numbers = 5\n",
      "3\n",
      "i = 2, a = 0, numbers = 6\n",
      "2\n",
      "i = 3, a = 0, numbers = 16\n",
      "1\n",
      "i = 4, a = 0, numbers = 5\n",
      "2\n"
     ]
    },
    {
     "data": {
      "text/plain": [
       "[False, False, True, False, True]"
      ]
     },
     "execution_count": 19,
     "metadata": {},
     "output_type": "execute_result"
    }
   ],
   "source": [
    "numbers = [8, 5, 6, 16, 5]\n",
    "left = 1\n",
    "right = 3\n",
    "\n",
    "solution(numbers, left, right)"
   ]
  },
  {
   "cell_type": "markdown",
   "id": "6aca9ffe",
   "metadata": {},
   "source": [
    "## Question 6\n",
    "You are given two arrays of integers a and b of the same length, and an integer k. \n",
    "\n",
    "We will be iterating through array a from left to right, and simultaneously through array b from right to left, and looking at pairs (x, y), where x is from a and y is from b. \n",
    "\n",
    "Such a pair is called tiny if the concatenation xy is strictly less than k.\n",
    "\n",
    "Your task is to return the number of tiny pairs that you'll encounter during the simultaneous iteration through a and b.\n",
    "\n",
    "### Example\n",
    "\n",
    "For a = [1, 2, 3], b = [1, 2, 3], and k = 31, the output should be\n",
    "solution(a, b, k) = 2.\n",
    "\n",
    "We're considering the following pairs during iteration:\n",
    "\n",
    "* (1, 3). Their concatenation equals 13, which is less than 31, so the pair is tiny;\n",
    "* (2, 2). Their concatenation equals 22, which is less than 31, so the pair is tiny;\n",
    "* (3, 1). Their concatenation equals 31, which is not less than 31, so the pair is not tiny.\n",
    "\n",
    "As you can see, there are 2 tiny pairs during the iteration, so the answer is 2.\n",
    "\n",
    "For a = [16, 1, 4, 2, 14], b = [7, 11, 2, 0, 15], and k = 743, the output should be\n",
    "solution(a, b, k) = 4.\n",
    "\n",
    "We're considering the following pairs during iteration:\n",
    "\n",
    "* (16, 15). Their concatenation equals 1615, which is greater than 743, so the pair is not tiny;\n",
    "* (1, 0). Their concatenation equals 10, which is less than 743, so the pair is tiny;\n",
    "* (4, 2). Their concatenation equals 42, which is less than 743, so the pair is tiny.\n",
    "* (2, 11). Their concatenation equals 211, which is less than 743, so the pair is tiny;\n",
    "* (14, 7). Their concatenation equals 147, which is less than 743, so the pair is tiny.\n",
    "\n",
    "There are 4 tiny pairs during the iteration, so the answer is 4."
   ]
  },
  {
   "cell_type": "code",
   "execution_count": 31,
   "id": "7933fb41",
   "metadata": {},
   "outputs": [],
   "source": [
    "def solution(a, b, k):\n",
    "    b_rev = b[::-1]\n",
    "    count = 0\n",
    "    \n",
    "    for i in range(len(a)):\n",
    "        test_val = int(str(a[i]) + str(b_rev[i]))\n",
    "        if test_val < k:\n",
    "            count += 1\n",
    "            \n",
    "    return count"
   ]
  },
  {
   "cell_type": "code",
   "execution_count": 32,
   "id": "ac5eda1a",
   "metadata": {},
   "outputs": [
    {
     "data": {
      "text/plain": [
       "2"
      ]
     },
     "execution_count": 32,
     "metadata": {},
     "output_type": "execute_result"
    }
   ],
   "source": [
    "a = [1, 2, 3]\n",
    "b = [1, 2, 3]\n",
    "k = 31\n",
    "\n",
    "solution(a, b, k)"
   ]
  },
  {
   "cell_type": "markdown",
   "id": "ebc6b08d",
   "metadata": {},
   "source": [
    "## Question 7\n",
    "Minesweeper is a popular single-player computer game. The goal is to locate mines within a rectangular grid of cells. At the start of the game, all of the cells are concealed. On each turn, the player clicks on a blank cell to reveal its contents, leading to the following result:\n",
    "\n",
    "If there's a mine on this cell, the player loses and the game is over;\n",
    "Otherwise, a number appears on the cell, representing how many mines there are within the 8 neighbouring cells (up, down, left, right, and the 4 diagonal directions);\n",
    "If the revealed number is 0, each of the 8 neighbouring cells are automatically revealed in the same way.\n",
    "\n",
    "You are given a boolean matrix field representing the distribution of bombs in the rectangular field. You are also given integers x and y, representing the coordinates of the player's first clicked cell - x represents the row index, and y represents the column index, both of which are 0-based.\n",
    "\n",
    "Your task is to return an integer matrix of the same dimensions as field, representing the resulting field after applying this click. If a cell remains concealed, the corresponding element should have a value of -1.\n",
    "\n",
    "It is guaranteed that the clicked cell does not contain a mine.\n",
    "\n",
    "### Example\n",
    "\n",
    "For\n",
    "field = [[false, true, true],\n",
    "         [true, false, true],\n",
    "         [false, false, true]]\n",
    "x = 1, and y = 1, the output should be\n",
    "\n",
    "solution(field, x, y) = [[-1, -1, -1],\n",
    "                         [-1, 5, -1],\n",
    "                         [-1, -1, -1]]"
   ]
  },
  {
   "cell_type": "markdown",
   "id": "63fc33c6",
   "metadata": {},
   "source": [
    "## Question 8\n",
    "You've created a new programming language, and now you've decided to add hashmap support to it. Actually you are quite disappointed that in common programming languages it's impossible to add a number to all hashmap keys, or all its values. So you've decided to take matters into your own hands and implement your own hashmap in your new language that has the following operations:\n",
    "\n",
    "insert x y - insert an object with key x and value y.\n",
    "get x - return the value of an object with key x.\n",
    "addToKey x - add x to all keys in map.\n",
    "addToValue y - add y to all values in map.\n",
    "To test out your new hashmap, you have a list of queries in the form of two arrays: queryTypes contains the names of the methods to be called (eg: insert, get, etc), and queries contains the arguments for those methods (the x and y values).\n",
    "\n",
    "Your task is to implement this hashmap, apply the given queries, and to find the sum of all the results for get operations.\n",
    "\n",
    "### Example\n",
    "\n",
    "* For queryType = [\"insert\", \"insert\", \"addToValue\", \"addToKey\", \"get\"] and query = [[1, 2], [2, 3], [2], [1], [3]], the output should be solution(queryType, query) = 5.\n",
    "\n",
    "The hashmap looks like this after each query:\n",
    "\n",
    "1 query: {1: 2}\n",
    "2 query: {1: 2, 2: 3}\n",
    "3 query: {1: 4, 2: 5}\n",
    "4 query: {2: 4, 3: 5}\n",
    "5 query: answer is 5\n",
    "The result of the last get query for 3 is 5 in the resulting hashmap.\n",
    "\n",
    "* For queryType = [\"insert\", \"addToValue\", \"get\", \"insert\", \"addToKey\", \"addToValue\", \"get\"] and query = [[1, 2], [2], [1], [2, 3], [1], [-1], [3]], the output should be solution(queryType, query) = 6.\n",
    "\n",
    "The hashmap looks like this after each query:\n",
    "\n",
    "1 query: {1: 2}\n",
    "2 query: {1: 4}\n",
    "3 query: answer is 4\n",
    "4 query: {1: 4, 2: 3}\n",
    "5 query: {2: 4, 3: 3}\n",
    "6 query: {2: 3, 3: 2}\n",
    "7 query: answer is 2\n",
    "The sum of the results for all the get queries is equal to 4 + 2 = 6."
   ]
  },
  {
   "cell_type": "code",
   "execution_count": 85,
   "id": "cce09446",
   "metadata": {},
   "outputs": [],
   "source": [
    "def solution(queryType, query):\n",
    "    queryType1 = queryType.copy()\n",
    "    dict1,dict2 = {},{}\n",
    "    results = 0\n",
    "    \n",
    "    for cmd in queryType:\n",
    "        if cmd == \"insert\":\n",
    "            break\n",
    "        else:\n",
    "            queryType1.pop(0)\n",
    "            query.pop(0)\n",
    "            \n",
    "    for i in range(len(queryType1)):\n",
    "        if queryType1[i] == \"insert\":\n",
    "            a = query[i][0]\n",
    "            b = query[i][1]\n",
    "            dict1[a] = b\n",
    "            \n",
    "        elif queryType1[i] == \"get\":\n",
    "            results += dict1[query[i][0]]\n",
    "        \n",
    "        elif queryType1[i] == \"addToValue\":\n",
    "            for k,v in dict1.items():\n",
    "                dict1[k] = v + query[i][0]\n",
    "                \n",
    "        elif queryType1[i] == \"addToKey\": \n",
    "            for k,v in dict1.items():\n",
    "                dict2[k + query[i][0]] = v\n",
    "            \n",
    "            dict1 = dict2.copy()\n",
    "    \n",
    "    return results"
   ]
  },
  {
   "cell_type": "code",
   "execution_count": 88,
   "id": "7575c844",
   "metadata": {},
   "outputs": [
    {
     "data": {
      "text/plain": [
       "True"
      ]
     },
     "execution_count": 88,
     "metadata": {},
     "output_type": "execute_result"
    }
   ],
   "source": [
    "queryType= [\"addToKey\", \"addToKey\", \"insert\", \"addToKey\", \"addToValue\", \"addToKey\", \"addToValue\", \"insert\", \"get\", \"insert\"]\n",
    "\n",
    "query= [[-1], [-3], [4,3], [2], [2], [-2], [0], [-5,3], [-5], [3,-4]]\n",
    "\n",
    "ans= 3\n",
    "\n",
    "ans==solution(queryType, query)"
   ]
  },
  {
   "cell_type": "code",
   "execution_count": null,
   "id": "ce299ba2",
   "metadata": {},
   "outputs": [],
   "source": []
  },
  {
   "cell_type": "code",
   "execution_count": 56,
   "id": "59cc9dfe",
   "metadata": {},
   "outputs": [],
   "source": [
    "def solution(sequence):    \n",
    "    n = len(sequence)\n",
    "    count = 0\n",
    "    \n",
    "    if n <= 2:\n",
    "        return True\n",
    "\n",
    "    else:\n",
    "        for i in range(n-1):\n",
    "            if sequence[i] >= sequence[i+1]:\n",
    "                count += 1\n",
    "                \n",
    "        if count == 0:\n",
    "            return True\n",
    "        elif count >= 2:\n",
    "            return False\n",
    "        else:\n",
    "            for j in range(n-1):\n",
    "                if sequence[j] >= sequence[j+1]:\n",
    "                    sq1 = sequence.copy()\n",
    "                    sq1.pop(j)\n",
    "                    a = set(sq1)\n",
    "                    if len(sq1) != len(a):\n",
    "                        return False\n",
    "                    else:\n",
    "                        sq1.sort()\n",
    "                        if sq1 != list(a):\n",
    "                            return False\n",
    "                                    \n",
    "    return True"
   ]
  },
  {
   "cell_type": "code",
   "execution_count": 57,
   "id": "1767a332",
   "metadata": {},
   "outputs": [
    {
     "data": {
      "text/plain": [
       "False"
      ]
     },
     "execution_count": 57,
     "metadata": {},
     "output_type": "execute_result"
    }
   ],
   "source": [
    "sequence= [1, 2, 1, 2]\n",
    "\n",
    "solution(sequence)"
   ]
  },
  {
   "cell_type": "code",
   "execution_count": 53,
   "id": "98037cfe",
   "metadata": {},
   "outputs": [
    {
     "name": "stdout",
     "output_type": "stream",
     "text": [
      "[1, 2, 3]\n"
     ]
    }
   ],
   "source": [
    "sequence= [1, 3, 2, 1]\n",
    "sq = sequence.copy()\n",
    "a = set(sq)\n",
    "b = list(a)\n",
    "print(b)"
   ]
  },
  {
   "cell_type": "code",
   "execution_count": null,
   "id": "2e6f986b",
   "metadata": {},
   "outputs": [],
   "source": []
  },
  {
   "cell_type": "markdown",
   "id": "7caedc0a",
   "metadata": {},
   "source": [
    "## Question 9\n",
    "Given an array a that contains only numbers in the range from 1 to a.length, find the first duplicate number for which the second occurrence has the minimal index. In other words, if there are more than 1 duplicated numbers, return the number for which the second occurrence has a smaller index than the second occurrence of the other number does. If there are no such elements, return -1.\n",
    "\n",
    "### Example\n",
    "\n",
    "* For a = [2, 1, 3, 5, 3, 2], the output should be solution(a) = 3.\n",
    "\n",
    "There are 2 duplicates: numbers 2 and 3. The second occurrence of 3 has a smaller index than the second occurrence of 2 does, so the answer is 3.\n",
    "\n",
    "* For a = [2, 2], the output should be solution(a) = 2;\n",
    "\n",
    "* For a = [2, 4, 3, 5, 1], the output should be solution(a) = -1."
   ]
  },
  {
   "cell_type": "code",
   "execution_count": 21,
   "id": "6add2a4d",
   "metadata": {},
   "outputs": [],
   "source": [
    "def solution(a):\n",
    "    d = dict()\n",
    "    l = list()\n",
    "    for i in range(len(a)):\n",
    "        if a[i] not in d:\n",
    "            d[a[i]] = {'count':1}\n",
    "\n",
    "        else:\n",
    "            d[a[i]]['count'] += 1\n",
    "            \n",
    "            if d[a[i]]['count'] == 2:\n",
    "                d[a[i]]['index'] = i\n",
    "    \n",
    "    for k,v in d.items():\n",
    "        if d[k]['count'] >= 2:\n",
    "            z = d[k]['index']\n",
    "            l.append(z)\n",
    "            \n",
    "    if l == []:\n",
    "        return -1\n",
    "        \n",
    "    else:\n",
    "        b = min(l)\n",
    "        return a[b]"
   ]
  },
  {
   "cell_type": "code",
   "execution_count": 22,
   "id": "6f327f10",
   "metadata": {},
   "outputs": [
    {
     "data": {
      "text/plain": [
       "3"
      ]
     },
     "execution_count": 22,
     "metadata": {},
     "output_type": "execute_result"
    }
   ],
   "source": [
    "a = [2, 1, 3, 5, 3, 2]\n",
    "\n",
    "solution(a)"
   ]
  },
  {
   "cell_type": "markdown",
   "id": "67310740",
   "metadata": {},
   "source": [
    "## Question 10\n",
    "Given a string s consisting of small English letters, find and return the first instance of a non-repeating character in it. If there is no such character, return '_'.\n",
    "\n",
    "### Example\n",
    "\n",
    "For s = \"abacabad\", the output should be\n",
    "solution(s) = 'c'.\n",
    "\n",
    "* There are 2 non-repeating characters in the string: 'c' and 'd'. Return c since it appears in the string first.\n",
    "\n",
    "For s = \"abacabaabacaba\", the output should be\n",
    "solution(s) = '_'.\n",
    "\n",
    "* There are no characters in this string that do not repeat."
   ]
  },
  {
   "cell_type": "code",
   "execution_count": 28,
   "id": "74e8356c",
   "metadata": {},
   "outputs": [],
   "source": [
    "def solution(s):\n",
    "    d = dict()\n",
    "    l = list()\n",
    "    \n",
    "    for i in range(len(s)):\n",
    "        if s[i] not in d:\n",
    "            d[s[i]] = {'count':1,'index':i}\n",
    "            \n",
    "        else:\n",
    "            d[s[i]]['count'] += 1\n",
    "            d[s[i]]['index'] = i\n",
    "            \n",
    "    for k,v in d.items():\n",
    "        if d[k]['count'] == 1:\n",
    "            l.append(d[k]['index'])\n",
    "            \n",
    "    if l == []:\n",
    "        return '_'\n",
    "        \n",
    "    return s[min(l)]           "
   ]
  },
  {
   "cell_type": "code",
   "execution_count": 29,
   "id": "ba7d8c00",
   "metadata": {},
   "outputs": [
    {
     "data": {
      "text/plain": [
       "'c'"
      ]
     },
     "execution_count": 29,
     "metadata": {},
     "output_type": "execute_result"
    }
   ],
   "source": [
    "s = \"abacabad\"\n",
    "\n",
    "solution(s)"
   ]
  }
 ],
 "metadata": {
  "kernelspec": {
   "display_name": "Python 3 (ipykernel)",
   "language": "python",
   "name": "python3"
  },
  "language_info": {
   "codemirror_mode": {
    "name": "ipython",
    "version": 3
   },
   "file_extension": ".py",
   "mimetype": "text/x-python",
   "name": "python",
   "nbconvert_exporter": "python",
   "pygments_lexer": "ipython3",
   "version": "3.9.12"
  }
 },
 "nbformat": 4,
 "nbformat_minor": 5
}
