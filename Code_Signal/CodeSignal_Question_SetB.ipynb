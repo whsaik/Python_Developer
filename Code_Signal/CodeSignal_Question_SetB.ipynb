{
 "cells": [
  {
   "cell_type": "code",
   "execution_count": 13,
   "id": "3b53950c",
   "metadata": {},
   "outputs": [],
   "source": [
    "def solution(a):\n",
    "    m = len(a)\n",
    "    n = len(a[0])\n",
    "    import numpy as np\n",
    "    b = np.zeros((m,n))\n",
    "    \n",
    "    for i in range(m):\n",
    "        for j in range(n):\n",
    "            b[j][-i+m-1] = a[i][j]\n",
    "            \n",
    "    return b"
   ]
  },
  {
   "cell_type": "code",
   "execution_count": 14,
   "id": "0abaca5f",
   "metadata": {},
   "outputs": [
    {
     "name": "stdout",
     "output_type": "stream",
     "text": [
      "[[0. 0. 1.]\n",
      " [0. 0. 0.]\n",
      " [0. 0. 0.]]\n",
      "[[0. 0. 1.]\n",
      " [0. 0. 2.]\n",
      " [0. 0. 0.]]\n",
      "[[0. 0. 1.]\n",
      " [0. 0. 2.]\n",
      " [0. 0. 3.]]\n",
      "[[0. 4. 1.]\n",
      " [0. 0. 2.]\n",
      " [0. 0. 3.]]\n",
      "[[0. 4. 1.]\n",
      " [0. 5. 2.]\n",
      " [0. 0. 3.]]\n",
      "[[0. 4. 1.]\n",
      " [0. 5. 2.]\n",
      " [0. 6. 3.]]\n",
      "[[7. 4. 1.]\n",
      " [0. 5. 2.]\n",
      " [0. 6. 3.]]\n",
      "[[7. 4. 1.]\n",
      " [8. 5. 2.]\n",
      " [0. 6. 3.]]\n",
      "[[7. 4. 1.]\n",
      " [8. 5. 2.]\n",
      " [9. 6. 3.]]\n"
     ]
    },
    {
     "data": {
      "text/plain": [
       "array([[7., 4., 1.],\n",
       "       [8., 5., 2.],\n",
       "       [9., 6., 3.]])"
      ]
     },
     "execution_count": 14,
     "metadata": {},
     "output_type": "execute_result"
    }
   ],
   "source": [
    "a=[[1,2,3], \n",
    " [4,5,6], \n",
    " [7,8,9]]\n",
    "\n",
    "solution(a)"
   ]
  },
  {
   "cell_type": "code",
   "execution_count": 56,
   "id": "7e05184b",
   "metadata": {},
   "outputs": [],
   "source": [
    "def solution(grid):\n",
    "    m = len(grid)\n",
    "    n = len(grid[0])\n",
    "    \n",
    "    for i in range(m):\n",
    "        col = []\n",
    "        for j in range(n):\n",
    "            if grid[i][j] == '.':\n",
    "                continue\n",
    "            elif grid[i][j] not in col:\n",
    "                col.append(grid[i][j])\n",
    "            elif grid[i][j] in col:\n",
    "                return False\n",
    "            \n",
    "    for i in range(m):\n",
    "        rw = []\n",
    "        for j in range(n):      \n",
    "            if grid[j][i] == '.':\n",
    "                continue\n",
    "            elif grid[j][i] not in rw:\n",
    "                rw.append(grid[j][i])\n",
    "            elif grid[j][i] in rw:\n",
    "                return False\n",
    "    \n",
    "    checker1 = []\n",
    "    checker2 = [] \n",
    "    checker3 = [] \n",
    "    for i in range(m):\n",
    "        if i == 3 or i == 6:\n",
    "            checker1 = []\n",
    "            checker2 = [] \n",
    "            checker3 = []\n",
    "            \n",
    "        for j in range(n):\n",
    "            if j < 3:\n",
    "                if grid[i][j] == '.':\n",
    "                    continue\n",
    "                elif grid[i][j] not in checker1:\n",
    "                    checker1.append(grid[i][j])\n",
    "                elif grid[i][j] in checker1:\n",
    "                    return False\n",
    "                \n",
    "            elif j < 6:\n",
    "                if grid[i][j] == '.':\n",
    "                    continue\n",
    "                elif grid[i][j] not in checker2:\n",
    "                    checker2.append(grid[i][j])\n",
    "                elif grid[i][j] in checker2:\n",
    "                    return False\n",
    "            \n",
    "            elif j < 9:\n",
    "                if grid[i][j] == '.':\n",
    "                    continue\n",
    "                elif grid[i][j] not in checker3:\n",
    "                    checker3.append(grid[i][j])\n",
    "                elif grid[i][j] in checker3:\n",
    "                    return False\n",
    "                \n",
    "\n",
    "        \n",
    "    return True "
   ]
  },
  {
   "cell_type": "code",
   "execution_count": 57,
   "id": "2d6684f0",
   "metadata": {},
   "outputs": [
    {
     "name": "stdout",
     "output_type": "stream",
     "text": [
      "Entry = .\n",
      "Entry = .\n",
      "Entry = .\n",
      "Entry = .\n",
      "Entry = .\n",
      "Entry = .\n",
      "Entry = 5\n",
      "check3 = ['5']\n",
      "Entry = .\n",
      "Entry = .\n",
      "Entry = .\n",
      "Entry = .\n",
      "Entry = .\n",
      "Entry = .\n",
      "Entry = .\n",
      "Entry = .\n",
      "Entry = .\n",
      "Entry = .\n",
      "Entry = .\n",
      "Entry = .\n",
      "Entry = .\n",
      "Entry = .\n",
      "Entry = .\n",
      "Entry = .\n",
      "Entry = .\n",
      "Entry = .\n",
      "Entry = .\n",
      "Entry = .\n",
      "Entry = 9\n",
      "check1 = ['9']\n",
      "Entry = 3\n",
      "check1 = ['9', '3']\n",
      "Entry = .\n",
      "Entry = .\n",
      "Entry = 2\n",
      "check2 = ['2']\n",
      "Entry = .\n",
      "Entry = 4\n",
      "check3 = ['4']\n",
      "Entry = .\n",
      "Entry = .\n",
      "Entry = .\n",
      "Entry = .\n",
      "Entry = 7\n",
      "check1 = ['9', '3', '7']\n",
      "Entry = .\n",
      "Entry = .\n",
      "Entry = .\n",
      "Entry = 3\n",
      "check3 = ['4', '3']\n",
      "Entry = .\n",
      "Entry = .\n",
      "Entry = .\n",
      "Entry = .\n",
      "Entry = .\n",
      "Entry = .\n",
      "Entry = .\n",
      "Entry = .\n",
      "Entry = .\n",
      "Entry = .\n",
      "Entry = .\n",
      "Entry = .\n",
      "Entry = .\n",
      "Entry = .\n",
      "Entry = 3\n",
      "check2 = ['3']\n",
      "Entry = 4\n",
      "check2 = ['3', '4']\n",
      "Entry = .\n",
      "Entry = .\n",
      "Entry = .\n",
      "Entry = .\n",
      "Entry = .\n",
      "Entry = .\n",
      "Entry = .\n",
      "Entry = .\n",
      "Entry = .\n",
      "Entry = 3\n"
     ]
    },
    {
     "data": {
      "text/plain": [
       "False"
      ]
     },
     "execution_count": 57,
     "metadata": {},
     "output_type": "execute_result"
    }
   ],
   "source": [
    "grid=[[\".\",\".\",\".\",\".\",\".\",\".\",\"5\",\".\",\".\"], \n",
    "      [\".\",\".\",\".\",\".\",\".\",\".\",\".\",\".\",\".\"], \n",
    "      [\".\",\".\",\".\",\".\",\".\",\".\",\".\",\".\",\".\"], \n",
    "      [\"9\",\"3\",\".\",\".\",\"2\",\".\",\"4\",\".\",\".\"], \n",
    "      [\".\",\".\",\"7\",\".\",\".\",\".\",\"3\",\".\",\".\"], \n",
    "      [\".\",\".\",\".\",\".\",\".\",\".\",\".\",\".\",\".\"], \n",
    "      [\".\",\".\",\".\",\"3\",\"4\",\".\",\".\",\".\",\".\"], \n",
    "      [\".\",\".\",\".\",\".\",\".\",\"3\",\".\",\".\",\".\"], \n",
    "      [\".\",\".\",\".\",\".\",\".\",\"5\",\"2\",\".\",\".\"]]\n",
    "\n",
    "\n",
    "solution(grid)"
   ]
  },
  {
   "cell_type": "code",
   "execution_count": 43,
   "id": "fea136da",
   "metadata": {
    "scrolled": true
   },
   "outputs": [
    {
     "name": "stdout",
     "output_type": "stream",
     "text": [
      "0\n",
      "1\n",
      "2\n"
     ]
    }
   ],
   "source": [
    "a = [0,1,2]\n",
    "for i in a:\n",
    "    print(i)"
   ]
  },
  {
   "cell_type": "code",
   "execution_count": 20,
   "id": "fb2e3a6f",
   "metadata": {},
   "outputs": [],
   "source": [
    "def solutiona(crypt, solution):\n",
    "    keys = []\n",
    "    for i in range(len(solution)):\n",
    "        keys.append(solution[i][0])\n",
    "    \n",
    "    test = \"\".join(keys)\n",
    "    fresults = []\n",
    "        \n",
    "    for i in crypt:\n",
    "        results = []\n",
    "        for j in i:\n",
    "            char_index = test.find(j)\n",
    "            a = str(solution[char_index][1])\n",
    "            results.append(a)\n",
    "            \n",
    "        a = \"\".join(results)\n",
    "        fresults.append(a)\n",
    "    \n",
    "    if int(fresults[0]) + int(fresults[1]) != int(fresults[2]):\n",
    "        return False\n",
    "    \n",
    "    else:        \n",
    "        for i in fresults:\n",
    "            if i[0] == \"0\" and len(i) >= 2:\n",
    "                return False\n",
    "        \n",
    "    return True"
   ]
  },
  {
   "cell_type": "code",
   "execution_count": 21,
   "id": "d525eb21",
   "metadata": {},
   "outputs": [
    {
     "data": {
      "text/plain": [
       "True"
      ]
     },
     "execution_count": 21,
     "metadata": {},
     "output_type": "execute_result"
    }
   ],
   "source": [
    "crypt = [\"SEND\", \"MORE\", \"MONEY\"]\n",
    "\n",
    "solution = [['O', '0'],\n",
    "            ['M', '1'],\n",
    "            ['Y', '2'],\n",
    "            ['E', '5'],\n",
    "            ['N', '6'],\n",
    "            ['D', '7'],\n",
    "            ['R', '8'],\n",
    "            ['S', '9']]\n",
    "\n",
    "solutiona(crypt, solution)"
   ]
  },
  {
   "cell_type": "code",
   "execution_count": 16,
   "id": "16e55c0d",
   "metadata": {},
   "outputs": [],
   "source": [
    "def solution(s1, s2):\n",
    "    d1 = dict()\n",
    "    d2 = dict()\n",
    "    results = []\n",
    "    \n",
    "    for i in range(len(s1)):\n",
    "        if s1[i] not in d1:\n",
    "            d1[s1[i]] = 1\n",
    "        else:\n",
    "            d1[s1[i]] += 1\n",
    "            \n",
    "    for i in range(len(s2)):\n",
    "        if s2[i] not in d2:\n",
    "            d2[s2[i]] = 1\n",
    "        else:\n",
    "            d2[s2[i]] += 1\n",
    "            \n",
    "    if len(d1) > len(d2):\n",
    "        print(f\"d1>d2, d1={d1},d2={d2}\")\n",
    "        for k,v in d1.items():\n",
    "            if k in d2 and v > d2[k]:\n",
    "                results.append(d2[k])\n",
    "            elif k in d2 and v <= d2[k]:\n",
    "                results.append(v)\n",
    "                \n",
    "    elif len(d1) <= len(d2):\n",
    "        print(f\"d1<=d2, d1={d1},d2={d2}\")\n",
    "        for k,v in d2.items():\n",
    "            if k in d1 and v > d1[k]:\n",
    "                results.append(d1[k])\n",
    "            elif k in d1 and v <= d1[k]:\n",
    "                results.append(v)\n",
    "    \n",
    "    print(results)\n",
    "    return sum(results)"
   ]
  },
  {
   "cell_type": "code",
   "execution_count": 17,
   "id": "005627c8",
   "metadata": {},
   "outputs": [
    {
     "name": "stdout",
     "output_type": "stream",
     "text": [
      "d1<=d2, d1={'a': 2, 'b': 1, 'c': 2},d2={'a': 3, 'd': 1, 'c': 1}\n",
      "[2, 1]\n"
     ]
    },
    {
     "data": {
      "text/plain": [
       "3"
      ]
     },
     "execution_count": 17,
     "metadata": {},
     "output_type": "execute_result"
    }
   ],
   "source": [
    "s1=\"aabcc\"\n",
    "s2= \"adcaa\"\n",
    "\n",
    "solution(s1, s2)"
   ]
  },
  {
   "cell_type": "code",
   "execution_count": 10,
   "id": "1f274bb6",
   "metadata": {},
   "outputs": [],
   "source": [
    "def solution(inputString):\n",
    "    a = inputString.find(\"(\")\n",
    "    b = inputString.find(\")\")\n",
    "    c = inputString[a+1:b]\n",
    "    d = c[::-1]\n",
    "    \n",
    "    for i in range(len(inputString)):\n",
    "        if inputString[i] == \"(\":\n",
    "            b = inputString.find(\")\")\n",
    "            c = inputString[i+1:b]\n",
    "    \n",
    "    return d\n",
    "        "
   ]
  },
  {
   "cell_type": "code",
   "execution_count": 12,
   "id": "512e7f18",
   "metadata": {},
   "outputs": [
    {
     "data": {
      "text/plain": [
       "'rab'"
      ]
     },
     "execution_count": 12,
     "metadata": {},
     "output_type": "execute_result"
    }
   ],
   "source": [
    "inputString = \"foo(bar)baz(blim)\"\n",
    "solution(inputString)"
   ]
  }
 ],
 "metadata": {
  "kernelspec": {
   "display_name": "Python 3 (ipykernel)",
   "language": "python",
   "name": "python3"
  },
  "language_info": {
   "codemirror_mode": {
    "name": "ipython",
    "version": 3
   },
   "file_extension": ".py",
   "mimetype": "text/x-python",
   "name": "python",
   "nbconvert_exporter": "python",
   "pygments_lexer": "ipython3",
   "version": "3.9.12"
  }
 },
 "nbformat": 4,
 "nbformat_minor": 5
}
